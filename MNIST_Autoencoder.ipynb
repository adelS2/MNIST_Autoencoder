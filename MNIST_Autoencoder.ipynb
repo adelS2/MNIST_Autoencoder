{
 "cells": [
  {
   "cell_type": "markdown",
   "id": "b666bf46",
   "metadata": {},
   "source": [
    "## MNIST Autoencoder mit PyTorch erstellen\n"
   ]
  },
  {
   "cell_type": "markdown",
   "id": "dd495680",
   "metadata": {},
   "source": [
    "##  Import der benötigten Bibliotheken."
   ]
  },
  {
   "cell_type": "code",
   "execution_count": 1,
   "id": "49312fef",
   "metadata": {},
   "outputs": [],
   "source": [
    "import torch\n",
    "from torchvision.datasets import MNIST\n",
    "from torchvision.transforms import ToTensor\n",
    "from torch.utils.data import DataLoader\n",
    "import torch.nn as nn\n",
    "\n",
    "import matplotlib.pyplot as plt"
   ]
  },
  {
   "cell_type": "markdown",
   "id": "057f12c0",
   "metadata": {},
   "source": [
    "## Weights and Biases\n",
    "Zur Nachverfolgung unserer Experimente und zur Visualisierung des Trainingsverlaufs nutzen wir WandB. Dafür wird ein kostenloser Account benötigt. \n",
    "\n",
    "Installiere WandB mit( pip install wandb ) und initialisiere es wie folgt:"
   ]
  },
  {
   "cell_type": "code",
   "execution_count": 13,
   "id": "b6b7d09a",
   "metadata": {},
   "outputs": [
    {
     "name": "stderr",
     "output_type": "stream",
     "text": [
      "wandb: ERROR Failed to detect the name of this notebook. You can set it manually with the WANDB_NOTEBOOK_NAME environment variable to enable code saving.\n",
      "wandb: Using wandb-core as the SDK backend.  Please refer to https://wandb.me/wandb-core for more information.\n",
      "wandb: Logging into wandb.ai. (Learn how to deploy a W&B server locally: https://wandb.me/wandb-server)\n",
      "wandb: You can find your API key in your browser here: https://wandb.ai/authorize\n",
      "wandb: Paste an API key from your profile and hit enter:wandb: Paste an API key from your profile and hit enter:wandb: Paste an API key from your profile and hit enter:wandb: WARNING If you're specifying your api key in code, ensure this code is not shared publicly.\n",
      "wandb: WARNING Consider setting the WANDB_API_KEY environment variable, or running `wandb login` from the command line.\n",
      "wandb: No netrc file found, creating one.\n",
      "wandb: Appending key for api.wandb.ai to your netrc file: C:\\Users\\Teilnehmer\\_netrc\n",
      "wandb: Currently logged in as: adel-haj-jumah (adel-haj-jumah-hochschule-hannover) to https://api.wandb.ai. Use `wandb login --relogin` to force relogin\n"
     ]
    }
   ],
   "source": [
    "import wandb\n",
    "wandb.login()  # nur einmal pro session \n",
    "config = {\n",
    "    \"epochs\": 40,\n",
    "    \"batch_size\": 64,\n",
    "    \"learning_rate\": 1e-3,\n",
    "    \"architecture\": \"Autoencoder\",\n",
    "    \"dataset\": \"MNIST\",\n",
    "    \"latent_dim\": 10\n",
    "    }"
   ]
  },
  {
   "cell_type": "markdown",
   "id": "52b9ef62",
   "metadata": {},
   "source": [
    "## Lade den MNIST-Datensatz\n",
    "Wir verwenden die MNIST-Klasse von torchvision und wandeln die Bilder in Tensoren um"
   ]
  },
  {
   "cell_type": "code",
   "execution_count": 15,
   "id": "7f579567",
   "metadata": {},
   "outputs": [
    {
     "name": "stderr",
     "output_type": "stream",
     "text": [
      "100%|██████████| 9.91M/9.91M [00:04<00:00, 2.09MB/s]\n",
      "100%|██████████| 28.9k/28.9k [00:00<00:00, 309kB/s]\n",
      "100%|██████████| 1.65M/1.65M [00:00<00:00, 1.65MB/s]\n",
      "100%|██████████| 4.54k/4.54k [00:00<00:00, 1.44MB/s]\n"
     ]
    }
   ],
   "source": [
    "# Load MNIST dataset\n",
    "transform = ToTensor() # Convert images to PyTorch tensors and normalize to [0, 1]\n",
    "\n",
    "train_data = MNIST(root='./data', train=True, transform=transform, download=True)\n",
    "val_data = MNIST(root='./data', train=False, transform=transform, download=True)\n",
    "\n",
    "train_loader = DataLoader(train_data, batch_size=config[\"batch_size\"], shuffle=True)\n",
    "val_loader = DataLoader(val_data, batch_size=config[\"batch_size\"], shuffle=True)"
   ]
  },
  {
   "cell_type": "markdown",
   "id": "8df01a37",
   "metadata": {},
   "source": [
    "## Definiere das Autoencoder-Modell\n",
    "Der Autoencoder besteht aus zwei Hauptkomponenten:\n",
    "\n",
    "Encoder: Komprimiert das 28x28-Bild zu einem latenten Vektor.\n",
    "\n",
    "Decoder: Rekonstruiert das Bild aus diesem Vektor.\n",
    "\n",
    "Wir verwenden lineare Schichten mit ReLU-Aktivierungen und schließen den Decoder mit einer Sigmoid-Aktivierung ab."
   ]
  },
  {
   "cell_type": "markdown",
   "id": "7767b42d",
   "metadata": {},
   "source": []
  },
  {
   "cell_type": "code",
   "execution_count": 16,
   "id": "d3bdfaeb",
   "metadata": {},
   "outputs": [],
   "source": [
    "class Autoencoder(nn.Module):\n",
    "    def __init__(self):\n",
    "        super(Autoencoder, self).__init__()\n",
    "        # Encoder\n",
    "        self.encoder = nn.Sequential(\n",
    "            nn.Linear(28 * 28, 128),\n",
    "            nn.ReLU(),\n",
    "            nn.Linear(128, 64),\n",
    "            nn.ReLU(),\n",
    "            nn.Linear(64, config[\"latent_dim\"])\n",
    "        )\n",
    "        # Decoder\n",
    "        self.decoder = nn.Sequential(\n",
    "            nn.Linear(config[\"latent_dim\"], 64),\n",
    "            nn.ReLU(),\n",
    "            nn.Linear(64, 128),\n",
    "            nn.ReLU(),\n",
    "            nn.Linear(128, 28 * 28),\n",
    "            nn.Sigmoid()\n",
    "        )\n",
    "\n",
    "    def forward(self, x):\n",
    "        x_flat = x.flatten(start_dim=1)       # 2D-Bild → 1D-Vektor (784)\n",
    "        encoded = self.encoder(x_flat)        # Komprimieren\n",
    "        decoded = self.decoder(encoded)       # Wiederherstellen\n",
    "        return decoded.reshape_as(x)          # Zurück in 28x28 Form bringen\n"
   ]
  }
 ],
 "metadata": {
  "kernelspec": {
   "display_name": "Python 3",
   "language": "python",
   "name": "python3"
  },
  "language_info": {
   "codemirror_mode": {
    "name": "ipython",
    "version": 3
   },
   "file_extension": ".py",
   "mimetype": "text/x-python",
   "name": "python",
   "nbconvert_exporter": "python",
   "pygments_lexer": "ipython3",
   "version": "3.10.16"
  }
 },
 "nbformat": 4,
 "nbformat_minor": 5
}
